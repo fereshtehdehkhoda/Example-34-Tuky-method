{
  "cells": [
    {
      "cell_type": "markdown",
      "metadata": {
        "id": "view-in-github",
        "colab_type": "text"
      },
      "source": [
        "<a href=\"https://colab.research.google.com/github/fereshtehdehkhoda/Example-34-Tuky-method/blob/main/S8soale_10.ipynb\" target=\"_parent\"><img src=\"https://colab.research.google.com/assets/colab-badge.svg\" alt=\"Open In Colab\"/></a>"
      ]
    },
    {
      "cell_type": "code",
      "execution_count": null,
      "id": "a5c9ef4a-0c12-480b-8947-db432ac47d9a",
      "metadata": {
        "id": "a5c9ef4a-0c12-480b-8947-db432ac47d9a"
      },
      "outputs": [],
      "source": [
        "#با استفاده از متد توکی (Tukey's Method)، کدامیک از درایه‌های زیر بعنوان داده پرت شناسایی می‌شود؟"
      ]
    },
    {
      "cell_type": "code",
      "execution_count": null,
      "id": "da00d67b-6636-48e8-ba6d-16d9a731f0d9",
      "metadata": {
        "id": "da00d67b-6636-48e8-ba6d-16d9a731f0d9"
      },
      "outputs": [],
      "source": [
        "import numpy as np\n",
        "import pandas as pd\n",
        "from scipy.stats import iqr"
      ]
    },
    {
      "cell_type": "code",
      "execution_count": null,
      "id": "a1db6295-a25b-4df2-9347-0fc379c69763",
      "metadata": {
        "id": "a1db6295-a25b-4df2-9347-0fc379c69763"
      },
      "outputs": [],
      "source": [
        "d1=np.array([100000000,10000,1000,4,4,4,4,4,3,3,3,3,3,2,2,2,2,-200])"
      ]
    },
    {
      "cell_type": "code",
      "execution_count": null,
      "id": "5ea3c5bb-697b-45e8-b1b4-9cd5d9eb80f8",
      "metadata": {
        "id": "5ea3c5bb-697b-45e8-b1b4-9cd5d9eb80f8",
        "outputId": "a372580f-54e4-4a8f-fff5-9257a7078ed4"
      },
      "outputs": [
        {
          "name": "stdout",
          "output_type": "stream",
          "text": [
            "[ True  True  True False False False False False False False False False\n",
            " False False False False False False]\n"
          ]
        }
      ],
      "source": [
        "print(d1 > np.quantile(d1,0.75) + 1.5 * iqr(d1))"
      ]
    },
    {
      "cell_type": "code",
      "execution_count": null,
      "id": "d8dc12bf-734d-4f82-a175-feb1e35e5519",
      "metadata": {
        "id": "d8dc12bf-734d-4f82-a175-feb1e35e5519",
        "outputId": "04cd9bcc-801a-44af-a8c3-5753ceea4ba7"
      },
      "outputs": [
        {
          "name": "stdout",
          "output_type": "stream",
          "text": [
            "[False False False False False False False False False False False False\n",
            " False False False False False  True]\n"
          ]
        }
      ],
      "source": [
        "print(d1 < np.quantile(d1,0.25) - 1.5 * iqr(d1))"
      ]
    },
    {
      "cell_type": "code",
      "execution_count": null,
      "id": "21371151-5ad9-4d08-b806-0cdf3b7654a6",
      "metadata": {
        "id": "21371151-5ad9-4d08-b806-0cdf3b7654a6"
      },
      "outputs": [],
      "source": []
    }
  ],
  "metadata": {
    "kernelspec": {
      "display_name": "Python 3 (ipykernel)",
      "language": "python",
      "name": "python3"
    },
    "language_info": {
      "codemirror_mode": {
        "name": "ipython",
        "version": 3
      },
      "file_extension": ".py",
      "mimetype": "text/x-python",
      "name": "python",
      "nbconvert_exporter": "python",
      "pygments_lexer": "ipython3",
      "version": "3.12.4"
    },
    "colab": {
      "provenance": [],
      "include_colab_link": true
    }
  },
  "nbformat": 4,
  "nbformat_minor": 5
}